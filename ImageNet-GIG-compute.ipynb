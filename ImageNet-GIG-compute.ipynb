{
 "cells": [
  {
   "cell_type": "code",
   "execution_count": 1,
   "id": "ed1014fd-22ca-46fa-8478-52315de31b04",
   "metadata": {},
   "outputs": [],
   "source": [
    "import numpy as np\n",
    "import matplotlib.pyplot as plt\n",
    "import pandas as pd\n",
    "import tensorflow as tf\n",
    "import os\n",
    "import json\n",
    "tfk  = tf .keras\n",
    "tfkl = tfk.layers\n",
    "\n",
    "from utils import *\n",
    "from guided_ig import *\n",
    "from tqdm import tqdm\n",
    "import pickle\n",
    "\n",
    "from tensorflow.python.ops import image_ops\n",
    "from tensorflow.python.ops import io_ops\n",
    "from tensorflow.python.keras.layers.preprocessing import image_preprocessing"
   ]
  },
  {
   "cell_type": "code",
   "execution_count": 2,
   "id": "b7494340-9b52-4eaf-b91a-70a4d0314155",
   "metadata": {},
   "outputs": [],
   "source": [
    "p_xml = '/media/big/imagenet/data/ILSVRC/Annotations/CLS-LOC/val'\n",
    "p_jpg = '/media/big/imagenet/data/ILSVRC/Data/CLS-LOC/val'\n",
    "files_xml = sorted(os.listdir(p_xml))\n",
    "files_jpg = sorted(os.listdir(p_jpg))"
   ]
  },
  {
   "cell_type": "code",
   "execution_count": 3,
   "id": "1f08900c-9a2f-4a55-a897-3be1007fb049",
   "metadata": {},
   "outputs": [],
   "source": [
    "with open('imagenet_class_index.json', 'r') as fp:\n",
    "    label_json = json.loads(fp.read())\n",
    "labels = np.array([\n",
    "    [k, *v]\n",
    "    for k, v in label_json.items()\n",
    "])"
   ]
  },
  {
   "cell_type": "code",
   "execution_count": 4,
   "id": "b4a03771-275e-4201-b19a-67e8a579ed99",
   "metadata": {},
   "outputs": [
    {
     "name": "stderr",
     "output_type": "stream",
     "text": [
      "2021-12-05 18:14:33.469926: I tensorflow/stream_executor/cuda/cuda_gpu_executor.cc:939] successful NUMA node read from SysFS had negative value (-1), but there must be at least one NUMA node, so returning NUMA node zero\n",
      "2021-12-05 18:14:33.475414: I tensorflow/stream_executor/cuda/cuda_gpu_executor.cc:939] successful NUMA node read from SysFS had negative value (-1), but there must be at least one NUMA node, so returning NUMA node zero\n",
      "2021-12-05 18:14:33.475693: I tensorflow/stream_executor/cuda/cuda_gpu_executor.cc:939] successful NUMA node read from SysFS had negative value (-1), but there must be at least one NUMA node, so returning NUMA node zero\n",
      "2021-12-05 18:14:33.476568: I tensorflow/core/platform/cpu_feature_guard.cc:151] This TensorFlow binary is optimized with oneAPI Deep Neural Network Library (oneDNN) to use the following CPU instructions in performance-critical operations:  AVX2 FMA\n",
      "To enable them in other operations, rebuild TensorFlow with the appropriate compiler flags.\n",
      "2021-12-05 18:14:33.477101: I tensorflow/stream_executor/cuda/cuda_gpu_executor.cc:939] successful NUMA node read from SysFS had negative value (-1), but there must be at least one NUMA node, so returning NUMA node zero\n",
      "2021-12-05 18:14:33.477360: I tensorflow/stream_executor/cuda/cuda_gpu_executor.cc:939] successful NUMA node read from SysFS had negative value (-1), but there must be at least one NUMA node, so returning NUMA node zero\n",
      "2021-12-05 18:14:33.477604: I tensorflow/stream_executor/cuda/cuda_gpu_executor.cc:939] successful NUMA node read from SysFS had negative value (-1), but there must be at least one NUMA node, so returning NUMA node zero\n",
      "2021-12-05 18:14:33.848055: I tensorflow/stream_executor/cuda/cuda_gpu_executor.cc:939] successful NUMA node read from SysFS had negative value (-1), but there must be at least one NUMA node, so returning NUMA node zero\n",
      "2021-12-05 18:14:33.848337: I tensorflow/stream_executor/cuda/cuda_gpu_executor.cc:939] successful NUMA node read from SysFS had negative value (-1), but there must be at least one NUMA node, so returning NUMA node zero\n",
      "2021-12-05 18:14:33.848584: I tensorflow/stream_executor/cuda/cuda_gpu_executor.cc:939] successful NUMA node read from SysFS had negative value (-1), but there must be at least one NUMA node, so returning NUMA node zero\n",
      "2021-12-05 18:14:33.848821: I tensorflow/core/common_runtime/gpu/gpu_device.cc:1525] Created device /job:localhost/replica:0/task:0/device:GPU:0 with 6912 MB memory:  -> device: 0, name: GeForce GTX 1080, pci bus id: 0000:03:00.0, compute capability: 6.1\n"
     ]
    }
   ],
   "source": [
    "model = tf.keras.applications.InceptionV3()\n",
    "def grad_func(x, idx):\n",
    "    x = tf.constant(x)[tf.newaxis]\n",
    "    with tf.GradientTape() as tape:\n",
    "        tape.watch(x)\n",
    "        pred = model(x)\n",
    "        pred = pred[:, idx]\n",
    "    return np.squeeze(tape.gradient(pred, x).numpy())"
   ]
  },
  {
   "cell_type": "code",
   "execution_count": null,
   "id": "4ec4b394-aff2-420a-b50b-7c11a8e196c5",
   "metadata": {},
   "outputs": [
    {
     "name": "stderr",
     "output_type": "stream",
     "text": [
      "0it [00:00, ?it/s]2021-12-05 18:14:35.456162: I tensorflow/stream_executor/cuda/cuda_dnn.cc:366] Loaded cuDNN version 8100\n",
      "2021-12-05 18:14:35.631876: I tensorflow/core/platform/default/subprocess.cc:304] Start cannot spawn child process: No such file or directory\n",
      "31it [40:36, 83.67s/it]"
     ]
    }
   ],
   "source": [
    "p_save = '/media/big/imagenet/computed-gig'\n",
    "\n",
    "for f_xml, f_jpg in tqdm(zip(files_xml, files_jpg)): \n",
    "    with open(f'{p_xml}/{f_xml}') as fp:\n",
    "        xml = fp.read()\n",
    "\n",
    "    path = f'{p_jpg}/{f_jpg}'\n",
    "    img = io_ops.read_file(path)\n",
    "    img = image_ops.decode_image(\n",
    "        img, \n",
    "        channels = 3, \n",
    "        expand_animations = False\n",
    "    )\n",
    "    img = image_ops.resize_images_v2(\n",
    "        img, \n",
    "        (299, 299), \n",
    "        method = image_preprocessing.get_interpolation('bilinear')\n",
    "    )\n",
    "    img = preprocess_iv3(img)[0]\n",
    "    p5  = model(img[tf.newaxis]).numpy().flatten().argsort()[::-1][:5]\n",
    "    y   = xml.split('\\n')[13][8:-7]\n",
    "\n",
    "    check_match = np.argwhere(labels[p5, 1] == y)\n",
    "    if len(check_match) > 0:\n",
    "        check_idx = p5[check_match][0, 0]\n",
    "        \n",
    "        # Guided IG\n",
    "        gig = np.stack([\n",
    "            unbounded_guided_ig(\n",
    "                img.numpy(),\n",
    "                baseline, \n",
    "                200, \n",
    "                lambda x: grad_func(x, check_idx), \n",
    "                0.1\n",
    "            )\n",
    "            for baseline in [\n",
    "                np.zeros_like(img) - 1, # To the model, black is -1\n",
    "                np.ones_like (img)      # White is 1\n",
    "            ]\n",
    "        ])\n",
    "        \n",
    "        # Anchored Guided IG (GIG(20))\n",
    "        gig20 = np.stack([\n",
    "            anchored_guided_ig(\n",
    "                img.numpy(),\n",
    "                baseline, \n",
    "                lambda x: grad_func(x, check_idx), \n",
    "                200, \n",
    "                0.1,\n",
    "                anchors = 20\n",
    "            )\n",
    "            for baseline in [\n",
    "                np.zeros_like(img) - 1,\n",
    "                np.ones_like (img)\n",
    "            ]\n",
    "        ])\n",
    "        res = np.concatenate([gig, gig20])\n",
    "        \n",
    "        with open(f'{p_save}/{f_xml}-{f_jpg}.pickle', 'wb') as fp:\n",
    "            pickle.dump({\n",
    "                'res': res,\n",
    "                'p5' : p5,\n",
    "                'y'  : y\n",
    "            }, fp)"
   ]
  }
 ],
 "metadata": {
  "kernelspec": {
   "display_name": "Python 3 (ipykernel)",
   "language": "python",
   "name": "python3"
  },
  "language_info": {
   "codemirror_mode": {
    "name": "ipython",
    "version": 3
   },
   "file_extension": ".py",
   "mimetype": "text/x-python",
   "name": "python",
   "nbconvert_exporter": "python",
   "pygments_lexer": "ipython3",
   "version": "3.9.9"
  }
 },
 "nbformat": 4,
 "nbformat_minor": 5
}
