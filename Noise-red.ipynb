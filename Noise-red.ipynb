{
 "metadata": {
  "language_info": {
   "codemirror_mode": {
    "name": "ipython",
    "version": 3
   },
   "file_extension": ".py",
   "mimetype": "text/x-python",
   "name": "python",
   "nbconvert_exporter": "python",
   "pygments_lexer": "ipython3",
   "version": 3
  },
  "orig_nbformat": 2
 },
 "nbformat": 4,
 "nbformat_minor": 2,
 "cells": [
  {
   "cell_type": "code",
   "execution_count": null,
   "metadata": {},
   "outputs": [],
   "source": [
    "#Deep conv autoencoders https://towardsdatascience.com/image-noise-reduction-in-10-minutes-with-convolutional-autoencoders-d16219d2956a\n",
    "\n",
    "\n",
    "import tensorflow as tf\n",
    "from tensorflow.keras.datasets import fashion_mnist\n",
    "# We don't need y_train and y_test\n",
    "(x_train, _), (x_test, _) = fashion_mnist.load_data()\n",
    "print('Max value in the x_train is', x_train[0].max())\n",
    "print('Min value in the x_train is', x_train[0].min())\n",
    "\n",
    "\n",
    "x_train = x_train.astype('float32') / 255.\n",
    "x_test = x_test.astype('float32') / 255."
   ]
  },
  {
   "cell_type": "code",
   "execution_count": null,
   "metadata": {},
   "outputs": [],
   "source": [
    "import matplotlib.pyplot as plt\n",
    "\n",
    "fig, axs = plt.subplots(5, 10) \n",
    "fig.tight_layout(pad=-1)\n",
    "plt.gray()\n",
    "a = 0 \n",
    "for i in range(5): \n",
    "  for j in range(10): \n",
    "    axs[i, j].imshow(tf.squeeze(x_test[a])) \n",
    "    axs[i, j].xaxis.set_visible(False) \n",
    "    axs[i, j].yaxis.set_visible(False) \n",
    "    a = a + 1 "
   ]
  },
  {
   "cell_type": "code",
   "execution_count": null,
   "metadata": {},
   "outputs": [],
   "source": [
    "x_train = x_train.astype('float32') / 255.\n",
    "x_test = x_test.astype('float32') / 255.\n",
    "\n",
    "x_train = x_train[…, tf.newaxis]\n",
    "x_test = x_test[…, tf.newaxis]\n",
    "\n",
    "print(x_train.shape)\n",
    "print(x_test.shape)"
   ]
  },
  {
   "cell_type": "code",
   "execution_count": null,
   "metadata": {},
   "outputs": [],
   "source": [
    "#add noise \n",
    "\n",
    "\n",
    "noise_factor = 0.4\n",
    "x_train_noisy = x_train + noise_factor * tf.random.normal(shape=x_train.shape) \n",
    "x_test_noisy = x_test + noise_factor * tf.random.normal(shape=x_test.shape)\n",
    "\n",
    "x_train_noisy = tf.clip_by_value(x_train_noisy, clip_value_min=0., clip_value_max=1.) \n",
    "x_test_noisy = tf.clip_by_value(x_test_noisy, clip_value_min=0., clip_value_max=1.)\n"
   ]
  },
  {
   "cell_type": "code",
   "execution_count": null,
   "metadata": {},
   "outputs": [],
   "source": [
    "n = 5\n",
    "plt.figure(figsize=(20, 8))\n",
    "plt.gray()\n",
    "for i in range(n):\n",
    "  ax = plt.subplot(2, n, i + 1) \n",
    "  plt.title(\"original\", size=20) \n",
    "  plt.imshow(tf.squeeze(x_test[i])) \n",
    "  plt.gray() \n",
    "  bx = plt.subplot(2, n, n+ i + 1) \n",
    "  plt.title(\"original + noise\", size=20) \n",
    "  plt.imshow(tf.squeeze(x_test_noisy[i])) \n",
    "plt.show()"
   ]
  },
  {
   "cell_type": "code",
   "execution_count": null,
   "metadata": {},
   "outputs": [],
   "source": [
    "from tensorflow.keras.layers import Conv2DTranspose, Conv2D, Input\n",
    "\n",
    "class NoiseReducer(tf.keras.Model): \n",
    "  def __init__(self):\n",
    "\n",
    "    super(NoiseReducer, self).__init__() \n",
    "\n",
    "    self.encoder = tf.keras.Sequential([ \n",
    "      Input(shape=(28, 28, 1)), \n",
    "      Conv2D(16, (3,3), activation='relu', padding='same', strides=2), \n",
    "      Conv2D(8, (3,3), activation='relu', padding='same', strides=2)]) \n",
    "    \n",
    "    self.decoder = tf.keras.Sequential([ \n",
    "      Conv2DTranspose(8, kernel_size=3, strides=2, activation='relu', padding='same'), \n",
    "      Conv2DTranspose(16, kernel_size=3, strides=2, activation='relu', padding='same'), \n",
    "      Conv2D(1, kernel_size=(3,3), activation='sigmoid', padding='same')]) \n",
    "  \n",
    "  def call(self, x): \n",
    "    encoded = self.encoder(x) \n",
    "    decoded = self.decoder(encoded) \n",
    "    return decoded"
   ]
  },
  {
   "cell_type": "code",
   "execution_count": null,
   "metadata": {},
   "outputs": [],
   "source": [
    "autoencoder = NoiseReducer()\n",
    "\n",
    "autoencoder.compile(optimizer='adam', loss='mse')\n",
    "\n",
    "\n",
    "autoencoder.fit(x_train_noisy, \n",
    "                x_train, \n",
    "                epochs=10, \n",
    "                shuffle=True, \n",
    "                validation_data=(x_test_noisy, x_test))"
   ]
  },
  {
   "cell_type": "code",
   "execution_count": null,
   "metadata": {},
   "outputs": [],
   "source": [
    "\n",
    "encoded_imgs=autoencoder.encoder(x_test_noisy).numpy()\n",
    "decoded_imgs=autoencoder.decoder(encoded_imgs)"
   ]
  },
  {
   "cell_type": "code",
   "execution_count": null,
   "metadata": {},
   "outputs": [],
   "source": [
    "n = 10 \n",
    "plt.figure(figsize=(20, 7))\n",
    "plt.gray()\n",
    "for i in range(n): \n",
    "  # display original + noise \n",
    "  bx = plt.subplot(3, n, i + 1) \n",
    "  plt.title(\"original + noise\") \n",
    "  plt.imshow(tf.squeeze(x_test_noisy[i])) \n",
    "  ax.get_xaxis().set_visible(False) \n",
    "  ax.get_yaxis().set_visible(False) \n",
    "  \n",
    "  # display reconstruction \n",
    "  cx = plt.subplot(3, n, i + n + 1) \n",
    "  plt.title(\"reconstructed\") \n",
    "  plt.imshow(tf.squeeze(decoded_imgs[i])) \n",
    "  bx.get_xaxis().set_visible(False) \n",
    "  bx.get_yaxis().set_visible(False) \n",
    "  \n",
    "  # display original \n",
    "  ax = plt.subplot(3, n, i + 2*n + 1) \n",
    "  plt.title(\"original\") \n",
    "  plt.imshow(tf.squeeze(x_test[i])) \n",
    "  ax.get_xaxis().set_visible(False) \n",
    "  ax.get_yaxis().set_visible(False) \n",
    "\n",
    "plt.show()"
   ]
  }
 ]
}